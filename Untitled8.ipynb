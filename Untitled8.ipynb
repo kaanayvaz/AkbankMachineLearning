{
  "cells": [
    {
      "cell_type": "code",
      "execution_count": 77,
      "metadata": {
        "id": "1ZtVRdxR0RQ-"
      },
      "outputs": [],
      "source": [
        "#Importing required libraries\n",
        "\n",
        "import pandas as pd\n",
        "import numpy as np\n",
        "\n",
        "import matplotlib.pyplot as plt\n",
        "import seaborn as sns\n",
        "\n",
        "from sklearn.preprocessing import StandardScaler,LabelEncoder\n",
        "from sklearn.model_selection import train_test_split, cross_validate\n",
        "from sklearn.linear_model import Lasso, LinearRegression, Ridge, ElasticNet\n",
        "from sklearn.neighbors import KNeighborsRegressor\n",
        "from sklearn.ensemble import RandomForestRegressor, GradientBoostingRegressor, AdaBoostRegressor\n",
        "from sklearn.metrics import mean_absolute_error, mean_squared_error, r2_score\n",
        "from sklearn.metrics import mean_absolute_error\n",
        "from sklearn.impute import SimpleImputer\n",
        "from sklearn.preprocessing import MinMaxScaler, OneHotEncoder\n",
        "from sklearn.metrics import mean_absolute_error\n",
        "\n",
        "pd.set_option('display.max_columns', None)\n",
        "pd.set_option('display.width', 500)\n",
        "pd.set_option('display.float_format',  '{:.2f}'.format)"
      ]
    },
    {
      "cell_type": "code",
      "execution_count": 78,
      "metadata": {
        "colab": {
          "base_uri": "https://localhost:8080/",
          "height": 233
        },
        "id": "W1XE-D1W0M6V",
        "outputId": "fa34adad-9be4-4174-c232-97168809921d"
      },
      "outputs": [
        {
          "data": {
            "text/html": [
              "<div>\n",
              "<style scoped>\n",
              "    .dataframe tbody tr th:only-of-type {\n",
              "        vertical-align: middle;\n",
              "    }\n",
              "\n",
              "    .dataframe tbody tr th {\n",
              "        vertical-align: top;\n",
              "    }\n",
              "\n",
              "    .dataframe thead th {\n",
              "        text-align: right;\n",
              "    }\n",
              "</style>\n",
              "<table border=\"1\" class=\"dataframe\">\n",
              "  <thead>\n",
              "    <tr style=\"text-align: right;\">\n",
              "      <th></th>\n",
              "      <th>Suburb</th>\n",
              "      <th>Address</th>\n",
              "      <th>Rooms</th>\n",
              "      <th>Type</th>\n",
              "      <th>Price</th>\n",
              "      <th>Method</th>\n",
              "      <th>SellerG</th>\n",
              "      <th>Date</th>\n",
              "      <th>Distance</th>\n",
              "      <th>Postcode</th>\n",
              "      <th>Bedroom2</th>\n",
              "      <th>Bathroom</th>\n",
              "      <th>Car</th>\n",
              "      <th>Landsize</th>\n",
              "      <th>BuildingArea</th>\n",
              "      <th>YearBuilt</th>\n",
              "      <th>CouncilArea</th>\n",
              "      <th>Lattitude</th>\n",
              "      <th>Longtitude</th>\n",
              "      <th>Regionname</th>\n",
              "      <th>Propertycount</th>\n",
              "    </tr>\n",
              "  </thead>\n",
              "  <tbody>\n",
              "    <tr>\n",
              "      <th>0</th>\n",
              "      <td>Abbotsford</td>\n",
              "      <td>68 Studley St</td>\n",
              "      <td>2</td>\n",
              "      <td>h</td>\n",
              "      <td>NaN</td>\n",
              "      <td>SS</td>\n",
              "      <td>Jellis</td>\n",
              "      <td>3/09/2016</td>\n",
              "      <td>2.50</td>\n",
              "      <td>3067.00</td>\n",
              "      <td>2.00</td>\n",
              "      <td>1.00</td>\n",
              "      <td>1.00</td>\n",
              "      <td>126.00</td>\n",
              "      <td>NaN</td>\n",
              "      <td>NaN</td>\n",
              "      <td>Yarra City Council</td>\n",
              "      <td>-37.80</td>\n",
              "      <td>145.00</td>\n",
              "      <td>Northern Metropolitan</td>\n",
              "      <td>4019.00</td>\n",
              "    </tr>\n",
              "    <tr>\n",
              "      <th>1</th>\n",
              "      <td>Abbotsford</td>\n",
              "      <td>85 Turner St</td>\n",
              "      <td>2</td>\n",
              "      <td>h</td>\n",
              "      <td>1480000.00</td>\n",
              "      <td>S</td>\n",
              "      <td>Biggin</td>\n",
              "      <td>3/12/2016</td>\n",
              "      <td>2.50</td>\n",
              "      <td>3067.00</td>\n",
              "      <td>2.00</td>\n",
              "      <td>1.00</td>\n",
              "      <td>1.00</td>\n",
              "      <td>202.00</td>\n",
              "      <td>NaN</td>\n",
              "      <td>NaN</td>\n",
              "      <td>Yarra City Council</td>\n",
              "      <td>-37.80</td>\n",
              "      <td>145.00</td>\n",
              "      <td>Northern Metropolitan</td>\n",
              "      <td>4019.00</td>\n",
              "    </tr>\n",
              "    <tr>\n",
              "      <th>2</th>\n",
              "      <td>Abbotsford</td>\n",
              "      <td>25 Bloomburg St</td>\n",
              "      <td>2</td>\n",
              "      <td>h</td>\n",
              "      <td>1035000.00</td>\n",
              "      <td>S</td>\n",
              "      <td>Biggin</td>\n",
              "      <td>4/02/2016</td>\n",
              "      <td>2.50</td>\n",
              "      <td>3067.00</td>\n",
              "      <td>2.00</td>\n",
              "      <td>1.00</td>\n",
              "      <td>0.00</td>\n",
              "      <td>156.00</td>\n",
              "      <td>79.00</td>\n",
              "      <td>1900.00</td>\n",
              "      <td>Yarra City Council</td>\n",
              "      <td>-37.81</td>\n",
              "      <td>144.99</td>\n",
              "      <td>Northern Metropolitan</td>\n",
              "      <td>4019.00</td>\n",
              "    </tr>\n",
              "  </tbody>\n",
              "</table>\n",
              "</div>"
            ],
            "text/plain": [
              "       Suburb          Address  Rooms Type      Price Method SellerG       Date  Distance  Postcode  Bedroom2  Bathroom  Car  Landsize  BuildingArea  YearBuilt         CouncilArea  Lattitude  Longtitude             Regionname  Propertycount\n",
              "0  Abbotsford    68 Studley St      2    h        NaN     SS  Jellis  3/09/2016      2.50   3067.00      2.00      1.00 1.00    126.00           NaN        NaN  Yarra City Council     -37.80      145.00  Northern Metropolitan        4019.00\n",
              "1  Abbotsford     85 Turner St      2    h 1480000.00      S  Biggin  3/12/2016      2.50   3067.00      2.00      1.00 1.00    202.00           NaN        NaN  Yarra City Council     -37.80      145.00  Northern Metropolitan        4019.00\n",
              "2  Abbotsford  25 Bloomburg St      2    h 1035000.00      S  Biggin  4/02/2016      2.50   3067.00      2.00      1.00 0.00    156.00         79.00    1900.00  Yarra City Council     -37.81      144.99  Northern Metropolitan        4019.00"
            ]
          },
          "execution_count": 78,
          "metadata": {},
          "output_type": "execute_result"
        }
      ],
      "source": [
        "df = pd.read_csv(\"Melbourne_housing_FULL.csv\")\n",
        "df_copy = df.copy()\n",
        "df_copy.head(3)\n"
      ]
    },
    {
      "cell_type": "markdown",
      "metadata": {
        "id": "2vIWIPm91YH-"
      },
      "source": [
        "EDA PROCESS\n"
      ]
    },
    {
      "cell_type": "code",
      "execution_count": 79,
      "metadata": {
        "colab": {
          "base_uri": "https://localhost:8080/"
        },
        "id": "cD_Gp6A61bY-",
        "outputId": "d23e2358-8445-44c2-bbb7-256b32d3fc92"
      },
      "outputs": [
        {
          "name": "stdout",
          "output_type": "stream",
          "text": [
            "<class 'pandas.core.frame.DataFrame'>\n",
            "RangeIndex: 34857 entries, 0 to 34856\n",
            "Data columns (total 21 columns):\n",
            " #   Column         Non-Null Count  Dtype  \n",
            "---  ------         --------------  -----  \n",
            " 0   Suburb         34857 non-null  object \n",
            " 1   Address        34857 non-null  object \n",
            " 2   Rooms          34857 non-null  int64  \n",
            " 3   Type           34857 non-null  object \n",
            " 4   Price          27247 non-null  float64\n",
            " 5   Method         34857 non-null  object \n",
            " 6   SellerG        34857 non-null  object \n",
            " 7   Date           34857 non-null  object \n",
            " 8   Distance       34856 non-null  float64\n",
            " 9   Postcode       34856 non-null  float64\n",
            " 10  Bedroom2       26640 non-null  float64\n",
            " 11  Bathroom       26631 non-null  float64\n",
            " 12  Car            26129 non-null  float64\n",
            " 13  Landsize       23047 non-null  float64\n",
            " 14  BuildingArea   13742 non-null  float64\n",
            " 15  YearBuilt      15551 non-null  float64\n",
            " 16  CouncilArea    34854 non-null  object \n",
            " 17  Lattitude      26881 non-null  float64\n",
            " 18  Longtitude     26881 non-null  float64\n",
            " 19  Regionname     34854 non-null  object \n",
            " 20  Propertycount  34854 non-null  float64\n",
            "dtypes: float64(12), int64(1), object(8)\n",
            "memory usage: 5.6+ MB\n"
          ]
        }
      ],
      "source": [
        "df_copy.info()"
      ]
    },
    {
      "cell_type": "code",
      "execution_count": 80,
      "metadata": {
        "colab": {
          "base_uri": "https://localhost:8080/"
        },
        "id": "Fz3W4ZZo1esJ",
        "outputId": "7986287d-0863-4332-ffe3-e1edbe4da4e3"
      },
      "outputs": [
        {
          "data": {
            "text/plain": [
              "Suburb               0\n",
              "Address              0\n",
              "Rooms                0\n",
              "Type                 0\n",
              "Price             7610\n",
              "Method               0\n",
              "SellerG              0\n",
              "Date                 0\n",
              "Distance             1\n",
              "Postcode             1\n",
              "Bedroom2          8217\n",
              "Bathroom          8226\n",
              "Car               8728\n",
              "Landsize         11810\n",
              "BuildingArea     21115\n",
              "YearBuilt        19306\n",
              "CouncilArea          3\n",
              "Lattitude         7976\n",
              "Longtitude        7976\n",
              "Regionname           3\n",
              "Propertycount        3\n",
              "dtype: int64"
            ]
          },
          "execution_count": 80,
          "metadata": {},
          "output_type": "execute_result"
        }
      ],
      "source": [
        "df_copy.isnull().sum()"
      ]
    },
    {
      "cell_type": "code",
      "execution_count": 81,
      "metadata": {
        "colab": {
          "base_uri": "https://localhost:8080/",
          "height": 167
        },
        "id": "hBb7rFzu1uCb",
        "outputId": "1da19927-023b-4071-f585-48f81f91db17"
      },
      "outputs": [
        {
          "data": {
            "text/html": [
              "<div>\n",
              "<style scoped>\n",
              "    .dataframe tbody tr th:only-of-type {\n",
              "        vertical-align: middle;\n",
              "    }\n",
              "\n",
              "    .dataframe tbody tr th {\n",
              "        vertical-align: top;\n",
              "    }\n",
              "\n",
              "    .dataframe thead th {\n",
              "        text-align: right;\n",
              "    }\n",
              "</style>\n",
              "<table border=\"1\" class=\"dataframe\">\n",
              "  <thead>\n",
              "    <tr style=\"text-align: right;\">\n",
              "      <th></th>\n",
              "      <th>Suburb</th>\n",
              "      <th>Address</th>\n",
              "      <th>Rooms</th>\n",
              "      <th>Type</th>\n",
              "      <th>Price</th>\n",
              "      <th>Method</th>\n",
              "      <th>SellerG</th>\n",
              "      <th>Date</th>\n",
              "      <th>Distance</th>\n",
              "      <th>Postcode</th>\n",
              "      <th>Bedroom2</th>\n",
              "      <th>Bathroom</th>\n",
              "      <th>Car</th>\n",
              "      <th>Landsize</th>\n",
              "      <th>BuildingArea</th>\n",
              "      <th>YearBuilt</th>\n",
              "      <th>CouncilArea</th>\n",
              "      <th>Lattitude</th>\n",
              "      <th>Longtitude</th>\n",
              "      <th>Regionname</th>\n",
              "      <th>Propertycount</th>\n",
              "    </tr>\n",
              "  </thead>\n",
              "  <tbody>\n",
              "    <tr>\n",
              "      <th>15857</th>\n",
              "      <td>Nunawading</td>\n",
              "      <td>1/7 Lilian St</td>\n",
              "      <td>3</td>\n",
              "      <td>t</td>\n",
              "      <td>NaN</td>\n",
              "      <td>SP</td>\n",
              "      <td>Jellis</td>\n",
              "      <td>17/06/2017</td>\n",
              "      <td>15.40</td>\n",
              "      <td>3131.00</td>\n",
              "      <td>3.00</td>\n",
              "      <td>3.00</td>\n",
              "      <td>2.00</td>\n",
              "      <td>405.00</td>\n",
              "      <td>226.00</td>\n",
              "      <td>2000.00</td>\n",
              "      <td>Manningham City Council</td>\n",
              "      <td>-37.83</td>\n",
              "      <td>145.17</td>\n",
              "      <td>Eastern Metropolitan</td>\n",
              "      <td>4973.00</td>\n",
              "    </tr>\n",
              "    <tr>\n",
              "      <th>15858</th>\n",
              "      <td>Nunawading</td>\n",
              "      <td>1/7 Lilian St</td>\n",
              "      <td>3</td>\n",
              "      <td>t</td>\n",
              "      <td>NaN</td>\n",
              "      <td>SP</td>\n",
              "      <td>Jellis</td>\n",
              "      <td>17/06/2017</td>\n",
              "      <td>15.40</td>\n",
              "      <td>3131.00</td>\n",
              "      <td>3.00</td>\n",
              "      <td>3.00</td>\n",
              "      <td>2.00</td>\n",
              "      <td>405.00</td>\n",
              "      <td>226.00</td>\n",
              "      <td>2000.00</td>\n",
              "      <td>Manningham City Council</td>\n",
              "      <td>-37.83</td>\n",
              "      <td>145.17</td>\n",
              "      <td>Eastern Metropolitan</td>\n",
              "      <td>4973.00</td>\n",
              "    </tr>\n",
              "  </tbody>\n",
              "</table>\n",
              "</div>"
            ],
            "text/plain": [
              "           Suburb        Address  Rooms Type  Price Method SellerG        Date  Distance  Postcode  Bedroom2  Bathroom  Car  Landsize  BuildingArea  YearBuilt              CouncilArea  Lattitude  Longtitude            Regionname  Propertycount\n",
              "15857  Nunawading  1/7 Lilian St      3    t    NaN     SP  Jellis  17/06/2017     15.40   3131.00      3.00      3.00 2.00    405.00        226.00    2000.00  Manningham City Council     -37.83      145.17  Eastern Metropolitan        4973.00\n",
              "15858  Nunawading  1/7 Lilian St      3    t    NaN     SP  Jellis  17/06/2017     15.40   3131.00      3.00      3.00 2.00    405.00        226.00    2000.00  Manningham City Council     -37.83      145.17  Eastern Metropolitan        4973.00"
            ]
          },
          "execution_count": 81,
          "metadata": {},
          "output_type": "execute_result"
        }
      ],
      "source": [
        "df_copy.loc[df_copy.duplicated(keep=False),:]"
      ]
    },
    {
      "cell_type": "code",
      "execution_count": 82,
      "metadata": {
        "id": "uWinNA-b3413"
      },
      "outputs": [],
      "source": [
        "df_copy.drop(15858, inplace = True)"
      ]
    },
    {
      "cell_type": "code",
      "execution_count": 83,
      "metadata": {
        "colab": {
          "base_uri": "https://localhost:8080/",
          "height": 457
        },
        "id": "3yHTz_Ha4HzA",
        "outputId": "e5787fdb-b9ea-4ca0-ded9-f11da1a41cd5"
      },
      "outputs": [
        {
          "data": {
            "text/html": [
              "<div>\n",
              "<style scoped>\n",
              "    .dataframe tbody tr th:only-of-type {\n",
              "        vertical-align: middle;\n",
              "    }\n",
              "\n",
              "    .dataframe tbody tr th {\n",
              "        vertical-align: top;\n",
              "    }\n",
              "\n",
              "    .dataframe thead th {\n",
              "        text-align: right;\n",
              "    }\n",
              "</style>\n",
              "<table border=\"1\" class=\"dataframe\">\n",
              "  <thead>\n",
              "    <tr style=\"text-align: right;\">\n",
              "      <th></th>\n",
              "      <th>count</th>\n",
              "      <th>mean</th>\n",
              "      <th>std</th>\n",
              "      <th>min</th>\n",
              "      <th>25%</th>\n",
              "      <th>50%</th>\n",
              "      <th>75%</th>\n",
              "      <th>max</th>\n",
              "    </tr>\n",
              "  </thead>\n",
              "  <tbody>\n",
              "    <tr>\n",
              "      <th>Rooms</th>\n",
              "      <td>34856.00</td>\n",
              "      <td>3.03</td>\n",
              "      <td>0.97</td>\n",
              "      <td>1.00</td>\n",
              "      <td>2.00</td>\n",
              "      <td>3.00</td>\n",
              "      <td>4.00</td>\n",
              "      <td>16.00</td>\n",
              "    </tr>\n",
              "    <tr>\n",
              "      <th>Price</th>\n",
              "      <td>27247.00</td>\n",
              "      <td>1050173.34</td>\n",
              "      <td>641467.13</td>\n",
              "      <td>85000.00</td>\n",
              "      <td>635000.00</td>\n",
              "      <td>870000.00</td>\n",
              "      <td>1295000.00</td>\n",
              "      <td>11200000.00</td>\n",
              "    </tr>\n",
              "    <tr>\n",
              "      <th>Distance</th>\n",
              "      <td>34855.00</td>\n",
              "      <td>11.18</td>\n",
              "      <td>6.79</td>\n",
              "      <td>0.00</td>\n",
              "      <td>6.40</td>\n",
              "      <td>10.30</td>\n",
              "      <td>14.00</td>\n",
              "      <td>48.10</td>\n",
              "    </tr>\n",
              "    <tr>\n",
              "      <th>Postcode</th>\n",
              "      <td>34855.00</td>\n",
              "      <td>3116.06</td>\n",
              "      <td>109.03</td>\n",
              "      <td>3000.00</td>\n",
              "      <td>3051.00</td>\n",
              "      <td>3103.00</td>\n",
              "      <td>3156.00</td>\n",
              "      <td>3978.00</td>\n",
              "    </tr>\n",
              "    <tr>\n",
              "      <th>Bedroom2</th>\n",
              "      <td>26639.00</td>\n",
              "      <td>3.08</td>\n",
              "      <td>0.98</td>\n",
              "      <td>0.00</td>\n",
              "      <td>2.00</td>\n",
              "      <td>3.00</td>\n",
              "      <td>4.00</td>\n",
              "      <td>30.00</td>\n",
              "    </tr>\n",
              "    <tr>\n",
              "      <th>Bathroom</th>\n",
              "      <td>26630.00</td>\n",
              "      <td>1.62</td>\n",
              "      <td>0.72</td>\n",
              "      <td>0.00</td>\n",
              "      <td>1.00</td>\n",
              "      <td>2.00</td>\n",
              "      <td>2.00</td>\n",
              "      <td>12.00</td>\n",
              "    </tr>\n",
              "    <tr>\n",
              "      <th>Car</th>\n",
              "      <td>26128.00</td>\n",
              "      <td>1.73</td>\n",
              "      <td>1.01</td>\n",
              "      <td>0.00</td>\n",
              "      <td>1.00</td>\n",
              "      <td>2.00</td>\n",
              "      <td>2.00</td>\n",
              "      <td>26.00</td>\n",
              "    </tr>\n",
              "    <tr>\n",
              "      <th>Landsize</th>\n",
              "      <td>23046.00</td>\n",
              "      <td>593.61</td>\n",
              "      <td>3398.92</td>\n",
              "      <td>0.00</td>\n",
              "      <td>224.00</td>\n",
              "      <td>521.00</td>\n",
              "      <td>670.00</td>\n",
              "      <td>433014.00</td>\n",
              "    </tr>\n",
              "    <tr>\n",
              "      <th>BuildingArea</th>\n",
              "      <td>13741.00</td>\n",
              "      <td>160.25</td>\n",
              "      <td>401.28</td>\n",
              "      <td>0.00</td>\n",
              "      <td>102.00</td>\n",
              "      <td>136.00</td>\n",
              "      <td>188.00</td>\n",
              "      <td>44515.00</td>\n",
              "    </tr>\n",
              "    <tr>\n",
              "      <th>YearBuilt</th>\n",
              "      <td>15550.00</td>\n",
              "      <td>1965.29</td>\n",
              "      <td>37.33</td>\n",
              "      <td>1196.00</td>\n",
              "      <td>1940.00</td>\n",
              "      <td>1970.00</td>\n",
              "      <td>2000.00</td>\n",
              "      <td>2106.00</td>\n",
              "    </tr>\n",
              "    <tr>\n",
              "      <th>Lattitude</th>\n",
              "      <td>26880.00</td>\n",
              "      <td>-37.81</td>\n",
              "      <td>0.09</td>\n",
              "      <td>-38.19</td>\n",
              "      <td>-37.86</td>\n",
              "      <td>-37.81</td>\n",
              "      <td>-37.75</td>\n",
              "      <td>-37.39</td>\n",
              "    </tr>\n",
              "    <tr>\n",
              "      <th>Longtitude</th>\n",
              "      <td>26880.00</td>\n",
              "      <td>145.00</td>\n",
              "      <td>0.12</td>\n",
              "      <td>144.42</td>\n",
              "      <td>144.93</td>\n",
              "      <td>145.01</td>\n",
              "      <td>145.07</td>\n",
              "      <td>145.53</td>\n",
              "    </tr>\n",
              "    <tr>\n",
              "      <th>Propertycount</th>\n",
              "      <td>34853.00</td>\n",
              "      <td>7572.96</td>\n",
              "      <td>4428.13</td>\n",
              "      <td>83.00</td>\n",
              "      <td>4385.00</td>\n",
              "      <td>6763.00</td>\n",
              "      <td>10412.00</td>\n",
              "      <td>21650.00</td>\n",
              "    </tr>\n",
              "  </tbody>\n",
              "</table>\n",
              "</div>"
            ],
            "text/plain": [
              "                 count       mean       std      min       25%       50%        75%         max\n",
              "Rooms         34856.00       3.03      0.97     1.00      2.00      3.00       4.00       16.00\n",
              "Price         27247.00 1050173.34 641467.13 85000.00 635000.00 870000.00 1295000.00 11200000.00\n",
              "Distance      34855.00      11.18      6.79     0.00      6.40     10.30      14.00       48.10\n",
              "Postcode      34855.00    3116.06    109.03  3000.00   3051.00   3103.00    3156.00     3978.00\n",
              "Bedroom2      26639.00       3.08      0.98     0.00      2.00      3.00       4.00       30.00\n",
              "Bathroom      26630.00       1.62      0.72     0.00      1.00      2.00       2.00       12.00\n",
              "Car           26128.00       1.73      1.01     0.00      1.00      2.00       2.00       26.00\n",
              "Landsize      23046.00     593.61   3398.92     0.00    224.00    521.00     670.00   433014.00\n",
              "BuildingArea  13741.00     160.25    401.28     0.00    102.00    136.00     188.00    44515.00\n",
              "YearBuilt     15550.00    1965.29     37.33  1196.00   1940.00   1970.00    2000.00     2106.00\n",
              "Lattitude     26880.00     -37.81      0.09   -38.19    -37.86    -37.81     -37.75      -37.39\n",
              "Longtitude    26880.00     145.00      0.12   144.42    144.93    145.01     145.07      145.53\n",
              "Propertycount 34853.00    7572.96   4428.13    83.00   4385.00   6763.00   10412.00    21650.00"
            ]
          },
          "execution_count": 83,
          "metadata": {},
          "output_type": "execute_result"
        }
      ],
      "source": [
        "df_copy.describe().T"
      ]
    },
    {
      "cell_type": "code",
      "execution_count": 84,
      "metadata": {
        "colab": {
          "base_uri": "https://localhost:8080/"
        },
        "id": "0VoyaDof49Ju",
        "outputId": "893ae574-c047-4443-c537-95f024abf898"
      },
      "outputs": [
        {
          "name": "stdout",
          "output_type": "stream",
          "text": [
            "Suburb:0.0\n",
            "Address:0.0\n",
            "Rooms:0.0\n",
            "Type:0.0\n",
            "Price:21.82981409226532\n",
            "Method:0.0\n",
            "SellerG:0.0\n",
            "Date:0.0\n",
            "Distance:0.0028689465228368145\n",
            "Postcode:0.0028689465228368145\n",
            "Bedroom2:23.574133578150104\n",
            "Bathroom:23.599954096855637\n",
            "Car:25.040165251319717\n",
            "Landsize:33.88225843470278\n",
            "BuildingArea:60.57780582969934\n",
            "YearBuilt:55.38788156988754\n",
            "CouncilArea:0.008606839568510443\n",
            "Lattitude:22.88271746614643\n",
            "Longtitude:22.88271746614643\n",
            "Regionname:0.008606839568510443\n",
            "Propertycount:0.008606839568510443\n"
          ]
        }
      ],
      "source": [
        "for i in df_copy.columns:\n",
        "  print(f\"{i}:{df_copy[i].isnull().sum()/34856 * 100}\") #We will drop values that have more than 50% missing data"
      ]
    },
    {
      "cell_type": "code",
      "execution_count": 85,
      "metadata": {
        "id": "s9D8ExJPA4d7"
      },
      "outputs": [],
      "source": [
        "df_copy.drop([\"YearBuilt\", \"BuildingArea\"],axis = 1,inplace = True)"
      ]
    },
    {
      "cell_type": "code",
      "execution_count": 86,
      "metadata": {
        "colab": {
          "base_uri": "https://localhost:8080/"
        },
        "id": "dRnjcK_jD0BM",
        "outputId": "f49c54a1-6610-4894-a5d8-1a317973e64b"
      },
      "outputs": [
        {
          "data": {
            "text/plain": [
              "Suburb             351\n",
              "Address          34009\n",
              "Rooms               12\n",
              "Type                 3\n",
              "Price             2871\n",
              "Method               9\n",
              "SellerG            388\n",
              "Date                78\n",
              "Distance           215\n",
              "Postcode           211\n",
              "Bedroom2            15\n",
              "Bathroom            11\n",
              "Car                 15\n",
              "Landsize          1684\n",
              "CouncilArea         33\n",
              "Lattitude        13402\n",
              "Longtitude       14524\n",
              "Regionname           8\n",
              "Propertycount      342\n",
              "dtype: int64"
            ]
          },
          "execution_count": 86,
          "metadata": {},
          "output_type": "execute_result"
        }
      ],
      "source": [
        "df_copy.nunique()"
      ]
    },
    {
      "cell_type": "code",
      "execution_count": 87,
      "metadata": {
        "id": "clLNiSb8ELfh"
      },
      "outputs": [],
      "source": [
        "num_cols = [col for col in df_copy.columns if df_copy[col].dtype in ['float64','int64']]\n",
        "cat_cols = [col for col in df_copy.columns if df_copy[col].dtype not in ['float64','int64']]"
      ]
    },
    {
      "cell_type": "markdown",
      "metadata": {
        "id": "O5ffd-QnDCe8"
      },
      "source": [
        "Visuals\n"
      ]
    },
    {
      "cell_type": "code",
      "execution_count": 88,
      "metadata": {
        "colab": {
          "base_uri": "https://localhost:8080/",
          "height": 1000
        },
        "id": "EZJUflyiCbAm",
        "outputId": "885fab35-57ec-4741-b8b4-f537d1614c95"
      },
      "outputs": [
        {
          "name": "stderr",
          "output_type": "stream",
          "text": [
            "/var/folders/v9/x5vxx_j57cx7j523q_6vqj_r0000gn/T/ipykernel_2272/248903425.py:2: FutureWarning: The default value of numeric_only in DataFrame.corr is deprecated. In a future version, it will default to False. Select only valid columns or specify the value of numeric_only to silence this warning.\n",
            "  sns.heatmap(df_copy.corr(), annot = True)\n"
          ]
        },
        {
          "data": {
            "text/plain": [
              "<Axes: >"
            ]
          },
          "execution_count": 88,
          "metadata": {},
          "output_type": "execute_result"
        },
        {
          "data": {
            "image/png": "[encoded data removed]",
            "text/plain": [
              "<Figure size 2000x2000 with 2 Axes>"
            ]
          },
          "metadata": {},
          "output_type": "display_data"
        }
      ],
      "source": [
        "plt.figure(figsize = (20,20))\n",
        "sns.heatmap(df_copy.corr(), annot = True)"
      ]
    },
    {
      "cell_type": "markdown",
      "metadata": {
        "id": "SDS9BX3rDbrO"
      },
      "source": [
        "Outliners\n"
      ]
    },
    {
      "cell_type": "code",
      "execution_count": 89,
      "metadata": {
        "id": "NzefLSuiDd-q"
      },
      "outputs": [],
      "source": [
        "def outlier_thresholds(df, col_name, low_quantile=0.25, up_quantile=0.75):\n",
        "    Q1 = df[col_name].quantile(low_quantile)\n",
        "    Q3 = df[col_name].quantile(up_quantile)\n",
        "    IQR = Q3 - Q1\n",
        "    low_limit = Q1 - 1.5 * IQR\n",
        "    up_limit = Q3 + 1.5 * IQR\n",
        "    return low_limit, up_limit"
      ]
    },
    {
      "cell_type": "code",
      "execution_count": 90,
      "metadata": {
        "id": "NwI_mypTFClV"
      },
      "outputs": [],
      "source": [
        "def check_outlier(dataframe, col_name):\n",
        "    low_limit, up_limit = outlier_thresholds(dataframe, col_name)\n",
        "    if dataframe[(dataframe[col_name] > up_limit) | (dataframe[col_name] < low_limit)].any(axis=None):\n",
        "        return True\n",
        "    else:\n",
        "        return False"
      ]
    },
    {
      "cell_type": "code",
      "execution_count": 91,
      "metadata": {
        "colab": {
          "base_uri": "https://localhost:8080/"
        },
        "id": "XOFj2mVBFEkk",
        "outputId": "47b43025-7aba-4149-c256-811cbbb39a1f"
      },
      "outputs": [
        {
          "name": "stdout",
          "output_type": "stream",
          "text": [
            "Rooms True\n",
            "Price True\n",
            "Distance True\n",
            "Postcode True\n",
            "Bedroom2 True\n",
            "Bathroom True\n",
            "Car True\n",
            "Landsize True\n",
            "Lattitude True\n",
            "Longtitude True\n",
            "Propertycount True\n"
          ]
        }
      ],
      "source": [
        "for col in num_cols:\n",
        "    print(col, check_outlier(df_copy, col))\n"
      ]
    },
    {
      "cell_type": "code",
      "execution_count": 92,
      "metadata": {
        "id": "SB1MwXCVFQfd"
      },
      "outputs": [],
      "source": [
        "def replace_with_thresholds(dataframe, variable):\n",
        "    low_limit, up_limit = outlier_thresholds(dataframe, variable)\n",
        "    dataframe.loc[(dataframe[variable] < low_limit), variable] = low_limit\n",
        "    dataframe.loc[(dataframe[variable] > up_limit), variable] = up_limit"
      ]
    },
    {
      "cell_type": "code",
      "execution_count": 93,
      "metadata": {
        "colab": {
          "base_uri": "https://localhost:8080/"
        },
        "id": "JkRLp_T1FSya",
        "outputId": "d9240a46-a819-4aa1-d925-00eee8cb5f0e"
      },
      "outputs": [
        {
          "name": "stdout",
          "output_type": "stream",
          "text": [
            "Rooms None\n",
            "Price None\n",
            "Distance None\n",
            "Postcode None\n",
            "Bedroom2 None\n",
            "Bathroom None\n",
            "Car None\n",
            "Landsize None\n",
            "Lattitude None\n",
            "Longtitude None\n",
            "Propertycount None\n"
          ]
        }
      ],
      "source": [
        "for col in num_cols:\n",
        "    print(col, replace_with_thresholds(df_copy, col))"
      ]
    },
    {
      "cell_type": "code",
      "execution_count": 94,
      "metadata": {
        "colab": {
          "base_uri": "https://localhost:8080/",
          "height": 414
        },
        "id": "AW5oMHWrFnNG",
        "outputId": "9c02d1c0-7a4e-4ccc-fda3-0f1ea35ed7ed"
      },
      "outputs": [
        {
          "data": {
            "image/png": "[encoded data removed]",
            "text/plain": [
              "<Figure size 1200x1000 with 2 Axes>"
            ]
          },
          "metadata": {},
          "output_type": "display_data"
        }
      ],
      "source": [
        "plt.figure(figsize=(12, 10))\n",
        "\n",
        "plt.subplot(2, 2, 1)\n",
        "sns.boxplot(y=\"Car\", data=df)\n",
        "plt.title(\"chol Boxplot of Original Data\");\n",
        "\n",
        "plt.subplot(2, 2, 2)\n",
        "sns.boxplot(y=\"Car\", data=df_copy)\n",
        "plt.title(\"chol Boxplot of Outlier Handled Data\");"
      ]
    },
    {
      "cell_type": "markdown",
      "metadata": {
        "id": "jHHl0sS6GPbF"
      },
      "source": [
        "Encoding\n"
      ]
    },
    {
      "cell_type": "code",
      "execution_count": 95,
      "metadata": {
        "id": "Uno-usgZGDQM"
      },
      "outputs": [],
      "source": [
        "df_copy[num_cols] = SimpleImputer().fit_transform(df_copy[num_cols])\n",
        "\n",
        "df_copy[num_cols] = MinMaxScaler().fit_transform(df_copy[num_cols])\n"
      ]
    },
    {
      "cell_type": "code",
      "execution_count": 96,
      "metadata": {},
      "outputs": [],
      "source": [
        "def one_hot_encoder(dataframe, categorical_col, drop_first=True):\n",
        "    dataframe = pd.get_dummies(dataframe, columns=categorical_col, drop_first=drop_first)\n",
        "    return dataframe\n",
        "\n",
        "ohe_cols = [col for col in df_copy.columns if 12 >= df_copy[col].nunique() > 2]\n",
        "df_copy = one_hot_encoder(df_copy, ohe_cols, drop_first=True)"
      ]
    },
    {
      "cell_type": "code",
      "execution_count": 97,
      "metadata": {
        "id": "hpMcLGpuPpJw"
      },
      "outputs": [],
      "source": [
        "columns_to_fill = ['Price', 'Landsize','Lattitude', 'Longtitude']\n",
        "\n",
        "for column in columns_to_fill:\n",
        "    df_copy[column].fillna(df_copy[column].mean(), inplace=True)"
      ]
    },
    {
      "cell_type": "code",
      "execution_count": 98,
      "metadata": {
        "colab": {
          "base_uri": "https://localhost:8080/"
        },
        "id": "i4LGIVjwHXLO",
        "outputId": "439e6f2c-0d68-4867-e5f2-d3ed5e3467ff"
      },
      "outputs": [
        {
          "data": {
            "text/plain": [
              "Suburb                                   0\n",
              "Address                                  0\n",
              "Price                                    0\n",
              "SellerG                                  0\n",
              "Date                                     0\n",
              "Distance                                 0\n",
              "Postcode                                 0\n",
              "Landsize                                 0\n",
              "CouncilArea                              3\n",
              "Lattitude                                0\n",
              "Longtitude                               0\n",
              "Propertycount                            0\n",
              "Rooms_0.16666666666666666                0\n",
              "Rooms_0.33333333333333337                0\n",
              "Rooms_0.5                                0\n",
              "Rooms_0.6666666666666666                 0\n",
              "Rooms_0.8333333333333334                 0\n",
              "Rooms_0.9999999999999999                 0\n",
              "Type_t                                   0\n",
              "Type_u                                   0\n",
              "Method_PN                                0\n",
              "Method_S                                 0\n",
              "Method_SA                                0\n",
              "Method_SN                                0\n",
              "Method_SP                                0\n",
              "Method_SS                                0\n",
              "Method_VB                                0\n",
              "Method_W                                 0\n",
              "Bedroom2_0.14285714285714285             0\n",
              "Bedroom2_0.2857142857142857              0\n",
              "Bedroom2_0.42857142857142855             0\n",
              "Bedroom2_0.44020850203514716             0\n",
              "Bedroom2_0.5714285714285714              0\n",
              "Bedroom2_0.7142857142857142              0\n",
              "Bedroom2_0.8571428571428571              0\n",
              "Bedroom2_1.0                             0\n",
              "Bathroom_0.2857142857142857              0\n",
              "Bathroom_0.46065661713427386             0\n",
              "Bathroom_0.5714285714285714              0\n",
              "Bathroom_0.8571428571428571              0\n",
              "Bathroom_1.0                             0\n",
              "Car_0.2857142857142857                   0\n",
              "Car_0.47794374945324114                  0\n",
              "Car_0.5714285714285714                   0\n",
              "Car_0.8571428571428571                   0\n",
              "Car_1.0                                  0\n",
              "Regionname_Eastern Victoria              0\n",
              "Regionname_Northern Metropolitan         0\n",
              "Regionname_Northern Victoria             0\n",
              "Regionname_South-Eastern Metropolitan    0\n",
              "Regionname_Southern Metropolitan         0\n",
              "Regionname_Western Metropolitan          0\n",
              "Regionname_Western Victoria              0\n",
              "dtype: int64"
            ]
          },
          "execution_count": 98,
          "metadata": {},
          "output_type": "execute_result"
        }
      ],
      "source": [
        "df_copy.isnull().sum()"
      ]
    },
    {
      "cell_type": "code",
      "execution_count": 99,
      "metadata": {
        "id": "Ku9Xg4CPIcLz"
      },
      "outputs": [],
      "source": [
        "df_copy.dropna(inplace=True)"
      ]
    },
    {
      "cell_type": "code",
      "execution_count": 100,
      "metadata": {
        "id": "jAF_KczNP8Ln"
      },
      "outputs": [],
      "source": [
        "df_copy.drop([\"Suburb\", \"Address\",\"SellerG\",\"Date\",\"CouncilArea\"], axis = 1, inplace = True)"
      ]
    },
    {
      "cell_type": "code",
      "execution_count": 101,
      "metadata": {
        "colab": {
          "base_uri": "https://localhost:8080/"
        },
        "id": "aHI_yFo9YPqo",
        "outputId": "02e66211-acdc-4399-e477-0009f251b420"
      },
      "outputs": [
        {
          "name": "stdout",
          "output_type": "stream",
          "text": [
            "<class 'pandas.core.frame.DataFrame'>\n",
            "Int64Index: 34853 entries, 0 to 34856\n",
            "Data columns (total 48 columns):\n",
            " #   Column                                 Non-Null Count  Dtype  \n",
            "---  ------                                 --------------  -----  \n",
            " 0   Price                                  34853 non-null  float64\n",
            " 1   Distance                               34853 non-null  float64\n",
            " 2   Postcode                               34853 non-null  float64\n",
            " 3   Landsize                               34853 non-null  float64\n",
            " 4   Lattitude                              34853 non-null  float64\n",
            " 5   Longtitude                             34853 non-null  float64\n",
            " 6   Propertycount                          34853 non-null  float64\n",
            " 7   Rooms_0.16666666666666666              34853 non-null  uint8  \n",
            " 8   Rooms_0.33333333333333337              34853 non-null  uint8  \n",
            " 9   Rooms_0.5                              34853 non-null  uint8  \n",
            " 10  Rooms_0.6666666666666666               34853 non-null  uint8  \n",
            " 11  Rooms_0.8333333333333334               34853 non-null  uint8  \n",
            " 12  Rooms_0.9999999999999999               34853 non-null  uint8  \n",
            " 13  Type_t                                 34853 non-null  uint8  \n",
            " 14  Type_u                                 34853 non-null  uint8  \n",
            " 15  Method_PN                              34853 non-null  uint8  \n",
            " 16  Method_S                               34853 non-null  uint8  \n",
            " 17  Method_SA                              34853 non-null  uint8  \n",
            " 18  Method_SN                              34853 non-null  uint8  \n",
            " 19  Method_SP                              34853 non-null  uint8  \n",
            " 20  Method_SS                              34853 non-null  uint8  \n",
            " 21  Method_VB                              34853 non-null  uint8  \n",
            " 22  Method_W                               34853 non-null  uint8  \n",
            " 23  Bedroom2_0.14285714285714285           34853 non-null  uint8  \n",
            " 24  Bedroom2_0.2857142857142857            34853 non-null  uint8  \n",
            " 25  Bedroom2_0.42857142857142855           34853 non-null  uint8  \n",
            " 26  Bedroom2_0.44020850203514716           34853 non-null  uint8  \n",
            " 27  Bedroom2_0.5714285714285714            34853 non-null  uint8  \n",
            " 28  Bedroom2_0.7142857142857142            34853 non-null  uint8  \n",
            " 29  Bedroom2_0.8571428571428571            34853 non-null  uint8  \n",
            " 30  Bedroom2_1.0                           34853 non-null  uint8  \n",
            " 31  Bathroom_0.2857142857142857            34853 non-null  uint8  \n",
            " 32  Bathroom_0.46065661713427386           34853 non-null  uint8  \n",
            " 33  Bathroom_0.5714285714285714            34853 non-null  uint8  \n",
            " 34  Bathroom_0.8571428571428571            34853 non-null  uint8  \n",
            " 35  Bathroom_1.0                           34853 non-null  uint8  \n",
            " 36  Car_0.2857142857142857                 34853 non-null  uint8  \n",
            " 37  Car_0.47794374945324114                34853 non-null  uint8  \n",
            " 38  Car_0.5714285714285714                 34853 non-null  uint8  \n",
            " 39  Car_0.8571428571428571                 34853 non-null  uint8  \n",
            " 40  Car_1.0                                34853 non-null  uint8  \n",
            " 41  Regionname_Eastern Victoria            34853 non-null  uint8  \n",
            " 42  Regionname_Northern Metropolitan       34853 non-null  uint8  \n",
            " 43  Regionname_Northern Victoria           34853 non-null  uint8  \n",
            " 44  Regionname_South-Eastern Metropolitan  34853 non-null  uint8  \n",
            " 45  Regionname_Southern Metropolitan       34853 non-null  uint8  \n",
            " 46  Regionname_Western Metropolitan        34853 non-null  uint8  \n",
            " 47  Regionname_Western Victoria            34853 non-null  uint8  \n",
            "dtypes: float64(7), uint8(41)\n",
            "memory usage: 3.5 MB\n"
          ]
        }
      ],
      "source": [
        "df_copy.info()"
      ]
    },
    {
      "cell_type": "markdown",
      "metadata": {
        "id": "iP4U5LUnGtEV"
      },
      "source": [
        "Model Training\n"
      ]
    },
    {
      "cell_type": "code",
      "execution_count": 105,
      "metadata": {
        "id": "8Bdea4MlI1Vu"
      },
      "outputs": [],
      "source": [
        "y = df_copy[\"Price\"]\n",
        "X = df_copy.drop(\"Price\", axis = 1)\n",
        "\n",
        "x_train, x_test, y_train, y_test = train_test_split(X,y,test_size=0.20,random_state=42)"
      ]
    },
    {
      "cell_type": "code",
      "execution_count": 106,
      "metadata": {
        "id": "Y0anVrOUK2Nh"
      },
      "outputs": [],
      "source": [
        "models = {\n",
        "    'Lasso': {\n",
        "        'model': Lasso()\n",
        "    },\n",
        "    'LinearRegression': {\n",
        "        'model': LinearRegression()\n",
        "    },\n",
        "    'Ridge': {\n",
        "        'model': Ridge()\n",
        "    },\n",
        "    'ElasticNet': {\n",
        "        'model': ElasticNet()\n",
        "    },\n",
        "    'KNeighborsRegressor': {\n",
        "        'model': KNeighborsRegressor()\n",
        "    },\n",
        "    'RandomForestRegressor': {\n",
        "        'model': RandomForestRegressor()\n",
        "    },\n",
        "    'GradientBoostingRegressor': {\n",
        "        'model': GradientBoostingRegressor()\n",
        "    },\n",
        "    'AdaBoostRegressor': {\n",
        "        'model': AdaBoostRegressor(n_estimators=5, learning_rate=1.2, loss='exponential', random_state=2)\n",
        "    }\n",
        "}"
      ]
    },
    {
      "cell_type": "code",
      "execution_count": 107,
      "metadata": {
        "colab": {
          "base_uri": "https://localhost:8080/",
          "height": 391
        },
        "id": "7VslIjoDLwo9",
        "outputId": "5df0b02e-9253-4467-e577-04561c85e66e"
      },
      "outputs": [],
      "source": [
        "from sklearn.metrics import mean_absolute_error, mean_squared_error, r2_score\n",
        "import numpy as np\n",
        "\n",
        "evaluation_results = []\n",
        "\n",
        "# Assuming you have a list of models stored in the `models` variable\n",
        "for name, model_info in models.items():\n",
        "    model = model_info['model']\n",
        "    model.fit(x_train, y_train)\n",
        "    predicted = model.predict(x_test)\n",
        "\n",
        "    mae = mean_absolute_error(y_test, predicted)\n",
        "    mse = mean_squared_error(y_test, predicted)\n",
        "    rmse = np.sqrt(mse)\n",
        "    r2 = r2_score(y_test, predicted)\n",
        "\n",
        "    evaluation_results.append((name, mae, mse, rmse, r2))\n",
        "\n"
      ]
    },
    {
      "cell_type": "code",
      "execution_count": 108,
      "metadata": {},
      "outputs": [
        {
          "name": "stdout",
          "output_type": "stream",
          "text": [
            "Lasso:\n",
            "MAE: 0.14531326768779956\n",
            "MSE: 0.04084942814257039\n",
            "RMSE: 0.202112414617634\n",
            "R2: -0.0020907890434229692\n",
            "\n",
            "LinearRegression:\n",
            "MAE: 0.10930422788185683\n",
            "MSE: 0.020436767729548205\n",
            "RMSE: 0.14295722342556952\n",
            "R2: 0.49865891321357736\n",
            "\n",
            "Ridge:\n",
            "MAE: 0.10933269360070376\n",
            "MSE: 0.020438413290869654\n",
            "RMSE: 0.14296297874229416\n",
            "R2: 0.4986185454062907\n",
            "\n",
            "ElasticNet:\n",
            "MAE: 0.14531326768779956\n",
            "MSE: 0.04084942814257039\n",
            "RMSE: 0.202112414617634\n",
            "R2: -0.0020907890434229692\n",
            "\n",
            "KNeighborsRegressor:\n",
            "MAE: 0.10001658765555815\n",
            "MSE: 0.020242198720192776\n",
            "RMSE: 0.14227508116389453\n",
            "R2: 0.50343194972777\n",
            "\n",
            "RandomForestRegressor:\n",
            "MAE: 0.08645492169090668\n",
            "MSE: 0.016026944570504197\n",
            "RMSE: 0.12659756937044328\n",
            "R2: 0.6068377389627474\n",
            "\n",
            "GradientBoostingRegressor:\n",
            "MAE: 0.09757028914317906\n",
            "MSE: 0.017220891791910168\n",
            "RMSE: 0.13122839552440688\n",
            "R2: 0.5775486260527907\n",
            "\n",
            "AdaBoostRegressor:\n",
            "MAE: 0.12309463251705081\n",
            "MSE: 0.02397344341246286\n",
            "RMSE: 0.1548335991071152\n",
            "R2: 0.4118995560614205\n",
            "\n"
          ]
        }
      ],
      "source": [
        "for name, mae, mse, rmse, r2 in evaluation_results:\n",
        "    print(f'{name}:')\n",
        "    print(f'MAE: {mae}')\n",
        "    print(f'MSE: {mse}')\n",
        "    print(f'RMSE: {rmse}')\n",
        "    print(f'R2: {r2}')\n",
        "    print()\n"
      ]
    }
  ],
  "metadata": {
    "colab": {
      "provenance": []
    },
    "kernelspec": {
      "display_name": "Python 3",
      "name": "python3"
    },
    "language_info": {
      "codemirror_mode": {
        "name": "ipython",
        "version": 3
      },
      "file_extension": ".py",
      "mimetype": "text/x-python",
      "name": "python",
      "nbconvert_exporter": "python",
      "pygments_lexer": "ipython3",
      "version": "3.11.4"
    }
  },
  "nbformat": 4,
  "nbformat_minor": 0
}
